{
 "cells": [
  {
   "cell_type": "markdown",
   "metadata": {},
   "source": [
    "# Sieve of Eratosthenes\n",
    "\n",
    "### Algorithm\n",
    "\n",
    "1. Create a list $l$ of integers from $2$ through $M$.\n",
    "2. Select $p = 2$, the smallest prime number.\n",
    "3. Compute multiples of prime $p$ up until $M$.\n",
    "4. Mark those multiples in the original list $l$.\n",
    "5. Repeat steps 3 & 4 until $p \\gt \\sqrt{M}$.\n",
    "6. Now, all unmarked integers in $l$ are primes."
   ]
  },
  {
   "cell_type": "code",
   "execution_count": 48,
   "metadata": {},
   "outputs": [
    {
     "name": "stdout",
     "output_type": "stream",
     "text": [
      "prime numbers for M=1001:\n",
      "[  2   3   5   7  11  13  17  19  23  29  31  37  41  43  47  53  59  61\n",
      "  67  71  73  79  83  89  97 101 103 107 109 113 127 131 137 139 149 151\n",
      " 157 163 167 173 179 181 191 193 197 199 211 223 227 229 233 239 241 251\n",
      " 257 263 269 271 277 281 283 293 307 311 313 317 331 337 347 349 353 359\n",
      " 367 373 379 383 389 397 401 409 419 421 431 433 439 443 449 457 461 463\n",
      " 467 479 487 491 499 503 509 521 523 541 547 557 563 569 571 577 587 593\n",
      " 599 601 607 613 617 619 631 641 643 647 653 659 661 673 677 683 691 701\n",
      " 709 719 727 733 739 743 751 757 761 769 773 787 797 809 811 821 823 827\n",
      " 829 839 853 857 859 863 877 881 883 887 907 911 919 929 937 941 947 953\n",
      " 967 971 977 983 991 997]\n"
     ]
    }
   ],
   "source": [
    "import numpy as np\n",
    "\n",
    "# define M here\n",
    "M = 1001\n",
    "\n",
    "# create list of consecutive integers\n",
    "l = np.arange(M+1)\n",
    "# create boolean mask\n",
    "isprime = np.ones(len(l), dtype=bool)\n",
    "# set 0 & 1 to False\n",
    "isprime[[0, 1]] = False\n",
    "\n",
    "# If p^2 is greater than M, the sieve can be stopped as\n",
    "# all remaining non-prime integers will already be marked!\n",
    "stop = np.floor(np.sqrt(M)).astype(int)\n",
    "\n",
    "# start loop with smallest prime (p=2)\n",
    "for p in range(2, stop+1):\n",
    "    # continue, if p is unmarked (otherwise, p is no prime)\n",
    "    if isprime[p]:\n",
    "        # compute multiples of prime p\n",
    "        multis = np.arange(2*p, M+1, p) # exclude p itself\n",
    "        # mark multiples of p\n",
    "        isprime[multis] = False\n",
    "\n",
    "# print unmarked integers\n",
    "print(f\"prime numbers for M={M}:\")\n",
    "print(l[isprime])"
   ]
  }
 ],
 "metadata": {
  "kernelspec": {
   "display_name": "uib",
   "language": "python",
   "name": "python3"
  },
  "language_info": {
   "codemirror_mode": {
    "name": "ipython",
    "version": 3
   },
   "file_extension": ".py",
   "mimetype": "text/x-python",
   "name": "python",
   "nbconvert_exporter": "python",
   "pygments_lexer": "ipython3",
   "version": "3.12.1"
  }
 },
 "nbformat": 4,
 "nbformat_minor": 2
}
